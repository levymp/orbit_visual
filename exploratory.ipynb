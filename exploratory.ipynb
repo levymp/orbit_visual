{
 "metadata": {
  "language_info": {
   "codemirror_mode": {
    "name": "ipython",
    "version": 3
   },
   "file_extension": ".py",
   "mimetype": "text/x-python",
   "name": "python",
   "nbconvert_exporter": "python",
   "pygments_lexer": "ipython3",
   "version": "3.8.5-final"
  },
  "orig_nbformat": 2,
  "kernelspec": {
   "name": "python3",
   "display_name": "Python 3.8.5 64-bit",
   "metadata": {
    "interpreter": {
     "hash": "252245aaf84a69e37bcbb1369492a6bb9f6a5435afca22e926d29f7945bc0097"
    }
   }
  }
 },
 "nbformat": 4,
 "nbformat_minor": 2,
 "cells": [
  {
   "cell_type": "code",
   "execution_count": 1,
   "metadata": {},
   "outputs": [],
   "source": [
    "from constellation_utils import SatConstellation as sc\n",
    "from skyfield.api import load\n",
    "from tzwhere import tzwhere\n",
    "import datetime\n",
    "import pytz\n"
   ]
  },
  {
   "cell_type": "code",
   "execution_count": 2,
   "metadata": {},
   "outputs": [],
   "source": [
    "position = (36.9741, -122.0308)"
   ]
  },
  {
   "cell_type": "code",
   "execution_count": 3,
   "metadata": {},
   "outputs": [
    {
     "output_type": "execute_result",
     "data": {
      "text/plain": [
       "'America/Los_Angeles'"
      ]
     },
     "metadata": {},
     "execution_count": 3
    }
   ],
   "source": [
    "tz = tzwhere.tzwhere()\n",
    "zone = tz.tzNameAt(position[0], position[1])\n",
    "tzinfo = pytz.timezone(zone)\n",
    "tzinfo.zone"
   ]
  },
  {
   "cell_type": "code",
   "execution_count": 4,
   "metadata": {},
   "outputs": [
    {
     "output_type": "execute_result",
     "data": {
      "text/plain": [
       "'America/Los_Angeles'"
      ]
     },
     "metadata": {},
     "execution_count": 4
    }
   ],
   "source": [
    "start = datetime.datetime(2020, 1, 5, 0, 0, 0, 0, tzinfo=tzinfo)\n",
    "end = datetime.datetime(2020, 1, 7, 0, 0, 0, 0, tzinfo=tzinfo)\n",
    "time = (start, end)\n",
    "start.tzinfo.zone\n"
   ]
  },
  {
   "cell_type": "code",
   "execution_count": 5,
   "metadata": {
    "tags": []
   },
   "outputs": [],
   "source": [
    "star = sc('STARLINK')\n",
    "star.generatePasses(position, time)"
   ]
  },
  {
   "cell_type": "code",
   "execution_count": 6,
   "metadata": {
    "tags": []
   },
   "outputs": [],
   "source": [
    "star.generateSchedule()\n"
   ]
  },
  {
   "cell_type": "code",
   "execution_count": 8,
   "metadata": {},
   "outputs": [
    {
     "output_type": "execute_result",
     "data": {
      "text/plain": [
       "                          RISE TIME        CULMINATE TIME  \\\n",
       "ASSET                                                       \n",
       "STARLINK-1447  2020 Jan 05 00:10:23  2020 Jan 05 00:10:52   \n",
       "STARLINK-1254  2020 Jan 05 00:15:30  2020 Jan 05 00:15:43   \n",
       "STARLINK-1629  2020 Jan 05 00:24:16  2020 Jan 05 00:24:30   \n",
       "STARLINK-1447  2020 Jan 05 00:37:42  2020 Jan 05 00:38:15   \n",
       "STARLINK-1774  2020 Jan 05 00:44:02  2020 Jan 05 00:44:10   \n",
       "STARLINK-1370  2020 Jan 05 00:47:50  2020 Jan 05 00:47:58   \n",
       "STARLINK-1351  2020 Jan 05 00:52:19  2020 Jan 05 00:52:33   \n",
       "STARLINK-1437  2020 Jan 05 00:57:33  2020 Jan 05 00:57:37   \n",
       "\n",
       "                           SET TIME  \n",
       "ASSET                                \n",
       "STARLINK-1447  2020 Jan 05 00:11:18  \n",
       "STARLINK-1254  2020 Jan 05 00:16:19  \n",
       "STARLINK-1629  2020 Jan 05 00:25:00  \n",
       "STARLINK-1447  2020 Jan 05 00:38:44  \n",
       "STARLINK-1774  2020 Jan 05 00:44:20  \n",
       "STARLINK-1370  2020 Jan 05 00:48:08  \n",
       "STARLINK-1351  2020 Jan 05 00:52:48  \n",
       "STARLINK-1437  2020 Jan 05 00:57:42  "
      ],
      "text/html": "<div>\n<style scoped>\n    .dataframe tbody tr th:only-of-type {\n        vertical-align: middle;\n    }\n\n    .dataframe tbody tr th {\n        vertical-align: top;\n    }\n\n    .dataframe thead th {\n        text-align: right;\n    }\n</style>\n<table border=\"1\" class=\"dataframe\">\n  <thead>\n    <tr style=\"text-align: right;\">\n      <th></th>\n      <th>RISE TIME</th>\n      <th>CULMINATE TIME</th>\n      <th>SET TIME</th>\n    </tr>\n    <tr>\n      <th>ASSET</th>\n      <th></th>\n      <th></th>\n      <th></th>\n    </tr>\n  </thead>\n  <tbody>\n    <tr>\n      <th>STARLINK-1447</th>\n      <td>2020 Jan 05 00:10:23</td>\n      <td>2020 Jan 05 00:10:52</td>\n      <td>2020 Jan 05 00:11:18</td>\n    </tr>\n    <tr>\n      <th>STARLINK-1254</th>\n      <td>2020 Jan 05 00:15:30</td>\n      <td>2020 Jan 05 00:15:43</td>\n      <td>2020 Jan 05 00:16:19</td>\n    </tr>\n    <tr>\n      <th>STARLINK-1629</th>\n      <td>2020 Jan 05 00:24:16</td>\n      <td>2020 Jan 05 00:24:30</td>\n      <td>2020 Jan 05 00:25:00</td>\n    </tr>\n    <tr>\n      <th>STARLINK-1447</th>\n      <td>2020 Jan 05 00:37:42</td>\n      <td>2020 Jan 05 00:38:15</td>\n      <td>2020 Jan 05 00:38:44</td>\n    </tr>\n    <tr>\n      <th>STARLINK-1774</th>\n      <td>2020 Jan 05 00:44:02</td>\n      <td>2020 Jan 05 00:44:10</td>\n      <td>2020 Jan 05 00:44:20</td>\n    </tr>\n    <tr>\n      <th>STARLINK-1370</th>\n      <td>2020 Jan 05 00:47:50</td>\n      <td>2020 Jan 05 00:47:58</td>\n      <td>2020 Jan 05 00:48:08</td>\n    </tr>\n    <tr>\n      <th>STARLINK-1351</th>\n      <td>2020 Jan 05 00:52:19</td>\n      <td>2020 Jan 05 00:52:33</td>\n      <td>2020 Jan 05 00:52:48</td>\n    </tr>\n    <tr>\n      <th>STARLINK-1437</th>\n      <td>2020 Jan 05 00:57:33</td>\n      <td>2020 Jan 05 00:57:37</td>\n      <td>2020 Jan 05 00:57:42</td>\n    </tr>\n  </tbody>\n</table>\n</div>"
     },
     "metadata": {},
     "execution_count": 8
    }
   ],
   "source": [
    "df = star.getSchedule()\n",
    "df.head(8)"
   ]
  },
  {
   "cell_type": "code",
   "execution_count": null,
   "metadata": {},
   "outputs": [],
   "source": []
  }
 ]
}