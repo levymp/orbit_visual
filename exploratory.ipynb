{
 "metadata": {
  "language_info": {
   "codemirror_mode": {
    "name": "ipython",
    "version": 3
   },
   "file_extension": ".py",
   "mimetype": "text/x-python",
   "name": "python",
   "nbconvert_exporter": "python",
   "pygments_lexer": "ipython3",
   "version": "3.8.5-final"
  },
  "orig_nbformat": 2,
  "kernelspec": {
   "name": "python3",
   "display_name": "Python 3.8.5 64-bit",
   "metadata": {
    "interpreter": {
     "hash": "252245aaf84a69e37bcbb1369492a6bb9f6a5435afca22e926d29f7945bc0097"
    }
   }
  }
 },
 "nbformat": 4,
 "nbformat_minor": 2,
 "cells": [
  {
   "cell_type": "code",
   "execution_count": 1,
   "metadata": {},
   "outputs": [],
   "source": [
    "from constellation_utils import SatConstellation as sc\n",
    "from skyfield.api import load\n",
    "from tzwhere import tzwhere\n",
    "import datetime\n",
    "import pytz\n"
   ]
  },
  {
   "cell_type": "code",
   "execution_count": 2,
   "metadata": {},
   "outputs": [],
   "source": [
    "position = (36.9741, -122.0308)\n",
    "start = datetime.date(2020, 1, 5)\n",
    "end = datetime.date(2020, 1, 7)\n",
    "time = (start, end)"
   ]
  },
  {
   "cell_type": "code",
   "execution_count": 3,
   "metadata": {},
   "outputs": [
    {
     "output_type": "execute_result",
     "data": {
      "text/plain": [
       "'America/Los_Angeles'"
      ]
     },
     "metadata": {},
     "execution_count": 3
    }
   ],
   "source": [
    "tz = tzwhere.tzwhere()\n",
    "zone = tz.tzNameAt(position[0], position[1])\n",
    "zone"
   ]
  },
  {
   "cell_type": "code",
   "execution_count": 3,
   "metadata": {
    "tags": []
   },
   "outputs": [],
   "source": [
    "star = sc('starlink')\n",
    "star.generatePasses(position, time, 'America/Los_Angeles')"
   ]
  },
  {
   "cell_type": "code",
   "execution_count": 4,
   "metadata": {
    "tags": []
   },
   "outputs": [],
   "source": [
    "star.generateSchedule()\n"
   ]
  },
  {
   "cell_type": "code",
   "execution_count": 6,
   "metadata": {},
   "outputs": [
    {
     "output_type": "execute_result",
     "data": {
      "text/plain": [
       "                          RISE TIME        CULMINATE TIME  \\\n",
       "ASSET                                                       \n",
       "STARLINK-1620  2020 Jan 04 16:00:15  2020 Jan 04 16:01:49   \n",
       "STARLINK-1546  2020 Jan 04 16:01:58  2020 Jan 04 16:02:17   \n",
       "STARLINK-1635  2020 Jan 04 16:02:45  2020 Jan 04 16:04:19   \n",
       "STARLINK-1163  2020 Jan 04 16:02:47  2020 Jan 04 16:04:06   \n",
       "STARLINK-1805  2020 Jan 04 16:02:55  2020 Jan 04 16:04:18   \n",
       "STARLINK-1170  2020 Jan 04 16:04:04  2020 Jan 04 16:05:25   \n",
       "STARLINK-1546  2020 Jan 04 16:04:17  2020 Jan 04 16:04:36   \n",
       "STARLINK-1633  2020 Jan 04 16:05:47  2020 Jan 04 16:07:11   \n",
       "\n",
       "                           SET TIME  \n",
       "ASSET                                \n",
       "STARLINK-1620  2020 Jan 04 16:03:36  \n",
       "STARLINK-1546  2020 Jan 04 16:00:18  \n",
       "STARLINK-1635  2020 Jan 04 16:06:06  \n",
       "STARLINK-1163  2020 Jan 04 16:06:11  \n",
       "STARLINK-1805  2020 Jan 04 16:06:03  \n",
       "STARLINK-1170  2020 Jan 04 16:07:30  \n",
       "STARLINK-1546  2020 Jan 04 16:02:37  \n",
       "STARLINK-1633  2020 Jan 04 16:08:38  "
      ],
      "text/html": "<div>\n<style scoped>\n    .dataframe tbody tr th:only-of-type {\n        vertical-align: middle;\n    }\n\n    .dataframe tbody tr th {\n        vertical-align: top;\n    }\n\n    .dataframe thead th {\n        text-align: right;\n    }\n</style>\n<table border=\"1\" class=\"dataframe\">\n  <thead>\n    <tr style=\"text-align: right;\">\n      <th></th>\n      <th>RISE TIME</th>\n      <th>CULMINATE TIME</th>\n      <th>SET TIME</th>\n    </tr>\n    <tr>\n      <th>ASSET</th>\n      <th></th>\n      <th></th>\n      <th></th>\n    </tr>\n  </thead>\n  <tbody>\n    <tr>\n      <th>STARLINK-1620</th>\n      <td>2020 Jan 04 16:00:15</td>\n      <td>2020 Jan 04 16:01:49</td>\n      <td>2020 Jan 04 16:03:36</td>\n    </tr>\n    <tr>\n      <th>STARLINK-1546</th>\n      <td>2020 Jan 04 16:01:58</td>\n      <td>2020 Jan 04 16:02:17</td>\n      <td>2020 Jan 04 16:00:18</td>\n    </tr>\n    <tr>\n      <th>STARLINK-1635</th>\n      <td>2020 Jan 04 16:02:45</td>\n      <td>2020 Jan 04 16:04:19</td>\n      <td>2020 Jan 04 16:06:06</td>\n    </tr>\n    <tr>\n      <th>STARLINK-1163</th>\n      <td>2020 Jan 04 16:02:47</td>\n      <td>2020 Jan 04 16:04:06</td>\n      <td>2020 Jan 04 16:06:11</td>\n    </tr>\n    <tr>\n      <th>STARLINK-1805</th>\n      <td>2020 Jan 04 16:02:55</td>\n      <td>2020 Jan 04 16:04:18</td>\n      <td>2020 Jan 04 16:06:03</td>\n    </tr>\n    <tr>\n      <th>STARLINK-1170</th>\n      <td>2020 Jan 04 16:04:04</td>\n      <td>2020 Jan 04 16:05:25</td>\n      <td>2020 Jan 04 16:07:30</td>\n    </tr>\n    <tr>\n      <th>STARLINK-1546</th>\n      <td>2020 Jan 04 16:04:17</td>\n      <td>2020 Jan 04 16:04:36</td>\n      <td>2020 Jan 04 16:02:37</td>\n    </tr>\n    <tr>\n      <th>STARLINK-1633</th>\n      <td>2020 Jan 04 16:05:47</td>\n      <td>2020 Jan 04 16:07:11</td>\n      <td>2020 Jan 04 16:08:38</td>\n    </tr>\n  </tbody>\n</table>\n</div>"
     },
     "metadata": {},
     "execution_count": 6
    }
   ],
   "source": [
    "df = star.getSchedule()\n",
    "df.head(8)"
   ]
  },
  {
   "cell_type": "code",
   "execution_count": 8,
   "metadata": {},
   "outputs": [
    {
     "output_type": "execute_result",
     "data": {
      "text/plain": [
       "                          RISE TIME        CULMINATE TIME  \\\n",
       "ASSET                                                       \n",
       "STARLINK-1620  2020 Jan 04 16:00:15  2020 Jan 04 16:01:49   \n",
       "STARLINK-1620  2020 Jan 04 22:49:05  2020 Jan 04 22:50:17   \n",
       "STARLINK-1620  2020 Jan 05 16:16:20  2020 Jan 05 16:16:20   \n",
       "STARLINK-1620  2020 Jan 05 23:03:31  2020 Jan 05 23:04:42   \n",
       "STARLINK-1620  2020 Jan 06 14:49:47  2020 Jan 06 14:49:47   \n",
       "\n",
       "                           SET TIME  \n",
       "ASSET                                \n",
       "STARLINK-1620  2020 Jan 04 16:03:36  \n",
       "STARLINK-1620  2020 Jan 04 22:51:48  \n",
       "STARLINK-1620  2020 Jan 05 16:16:55  \n",
       "STARLINK-1620  2020 Jan 05 23:07:28  \n",
       "STARLINK-1620  2020 Jan 06 14:51:07  "
      ],
      "text/html": "<div>\n<style scoped>\n    .dataframe tbody tr th:only-of-type {\n        vertical-align: middle;\n    }\n\n    .dataframe tbody tr th {\n        vertical-align: top;\n    }\n\n    .dataframe thead th {\n        text-align: right;\n    }\n</style>\n<table border=\"1\" class=\"dataframe\">\n  <thead>\n    <tr style=\"text-align: right;\">\n      <th></th>\n      <th>RISE TIME</th>\n      <th>CULMINATE TIME</th>\n      <th>SET TIME</th>\n    </tr>\n    <tr>\n      <th>ASSET</th>\n      <th></th>\n      <th></th>\n      <th></th>\n    </tr>\n  </thead>\n  <tbody>\n    <tr>\n      <th>STARLINK-1620</th>\n      <td>2020 Jan 04 16:00:15</td>\n      <td>2020 Jan 04 16:01:49</td>\n      <td>2020 Jan 04 16:03:36</td>\n    </tr>\n    <tr>\n      <th>STARLINK-1620</th>\n      <td>2020 Jan 04 22:49:05</td>\n      <td>2020 Jan 04 22:50:17</td>\n      <td>2020 Jan 04 22:51:48</td>\n    </tr>\n    <tr>\n      <th>STARLINK-1620</th>\n      <td>2020 Jan 05 16:16:20</td>\n      <td>2020 Jan 05 16:16:20</td>\n      <td>2020 Jan 05 16:16:55</td>\n    </tr>\n    <tr>\n      <th>STARLINK-1620</th>\n      <td>2020 Jan 05 23:03:31</td>\n      <td>2020 Jan 05 23:04:42</td>\n      <td>2020 Jan 05 23:07:28</td>\n    </tr>\n    <tr>\n      <th>STARLINK-1620</th>\n      <td>2020 Jan 06 14:49:47</td>\n      <td>2020 Jan 06 14:49:47</td>\n      <td>2020 Jan 06 14:51:07</td>\n    </tr>\n  </tbody>\n</table>\n</div>"
     },
     "metadata": {},
     "execution_count": 8
    }
   ],
   "source": [
    "df.loc['STARLINK-1620']\n"
   ]
  },
  {
   "cell_type": "code",
   "execution_count": 18,
   "metadata": {},
   "outputs": [
    {
     "output_type": "execute_result",
     "data": {
      "text/plain": [
       "datetime.date(2020, 1, 5)"
      ]
     },
     "metadata": {},
     "execution_count": 18
    }
   ],
   "source": [
    "ts = load.timescale()\n",
    "start"
   ]
  },
  {
   "cell_type": "code",
   "execution_count": 19,
   "metadata": {},
   "outputs": [
    {
     "output_type": "error",
     "ename": "AttributeError",
     "evalue": "'America/Los_Angeles' object has no attribute 'local'",
     "traceback": [
      "\u001b[0;31m---------------------------------------------------------------------------\u001b[0m",
      "\u001b[0;31mAttributeError\u001b[0m                            Traceback (most recent call last)",
      "\u001b[0;32m<ipython-input-19-448d51e48dab>\u001b[0m in \u001b[0;36m<module>\u001b[0;34m\u001b[0m\n\u001b[1;32m      1\u001b[0m \u001b[0mtz\u001b[0m \u001b[0;34m=\u001b[0m \u001b[0mpytz\u001b[0m\u001b[0;34m.\u001b[0m\u001b[0mtimezone\u001b[0m\u001b[0;34m(\u001b[0m\u001b[0mzone\u001b[0m\u001b[0;34m)\u001b[0m\u001b[0;34m\u001b[0m\u001b[0;34m\u001b[0m\u001b[0m\n\u001b[0;32m----> 2\u001b[0;31m \u001b[0mtz\u001b[0m\u001b[0;34m.\u001b[0m\u001b[0mlocal\u001b[0m\u001b[0;34m\u001b[0m\u001b[0;34m\u001b[0m\u001b[0m\n\u001b[0m",
      "\u001b[0;31mAttributeError\u001b[0m: 'America/Los_Angeles' object has no attribute 'local'"
     ]
    }
   ],
   "source": [
    "tz = pytz.timezone(zone)\n",
    "tz.local\n"
   ]
  },
  {
   "cell_type": "code",
   "execution_count": 5,
   "metadata": {},
   "outputs": [
    {
     "output_type": "execute_result",
     "data": {
      "text/plain": [
       "<DstTzInfo 'America/Los_Angeles' LMT-1 day, 16:07:00 STD>"
      ]
     },
     "metadata": {},
     "execution_count": 5
    }
   ],
   "source": [
    "timezone1 = pytz.timezone(zone)\n",
    "timezone1\n"
   ]
  },
  {
   "cell_type": "code",
   "execution_count": 16,
   "metadata": {},
   "outputs": [
    {
     "output_type": "error",
     "ename": "AttributeError",
     "evalue": "'datetime.date' object has no attribute 'time'",
     "traceback": [
      "\u001b[0;31m---------------------------------------------------------------------------\u001b[0m",
      "\u001b[0;31mAttributeError\u001b[0m                            Traceback (most recent call last)",
      "\u001b[0;32m<ipython-input-16-a139f3819689>\u001b[0m in \u001b[0;36m<module>\u001b[0;34m\u001b[0m\n\u001b[0;32m----> 1\u001b[0;31m \u001b[0mstartnew\u001b[0m \u001b[0;34m=\u001b[0m \u001b[0mstart\u001b[0m\u001b[0;34m.\u001b[0m\u001b[0mtime\u001b[0m\u001b[0;34m(\u001b[0m\u001b[0mhour\u001b[0m\u001b[0;34m=\u001b[0m\u001b[0;36m0\u001b[0m\u001b[0;34m,\u001b[0m \u001b[0mminute\u001b[0m\u001b[0;34m=\u001b[0m\u001b[0;36m0\u001b[0m\u001b[0;34m,\u001b[0m \u001b[0msecond\u001b[0m\u001b[0;34m=\u001b[0m\u001b[0;36m0\u001b[0m\u001b[0;34m)\u001b[0m\u001b[0;34m\u001b[0m\u001b[0;34m\u001b[0m\u001b[0m\n\u001b[0m\u001b[1;32m      2\u001b[0m \u001b[0mstartnew\u001b[0m\u001b[0;34m\u001b[0m\u001b[0;34m\u001b[0m\u001b[0m\n",
      "\u001b[0;31mAttributeError\u001b[0m: 'datetime.date' object has no attribute 'time'"
     ]
    }
   ],
   "source": [
    "startnew = start.time(hour=0, minute=0, second=0)\n",
    "startnew"
   ]
  },
  {
   "cell_type": "code",
   "execution_count": 12,
   "metadata": {},
   "outputs": [
    {
     "output_type": "error",
     "ename": "AttributeError",
     "evalue": "'datetime.date' object has no attribute 'astimezone'",
     "traceback": [
      "\u001b[0;31m---------------------------------------------------------------------------\u001b[0m",
      "\u001b[0;31mAttributeError\u001b[0m                            Traceback (most recent call last)",
      "\u001b[0;32m<ipython-input-12-619e59e47c1c>\u001b[0m in \u001b[0;36m<module>\u001b[0;34m\u001b[0m\n\u001b[0;32m----> 1\u001b[0;31m \u001b[0mstartnew\u001b[0m \u001b[0;34m=\u001b[0m \u001b[0mstart\u001b[0m\u001b[0;34m.\u001b[0m\u001b[0mastimezone\u001b[0m\u001b[0;34m(\u001b[0m\u001b[0mtimezone1\u001b[0m\u001b[0;34m)\u001b[0m\u001b[0;34m\u001b[0m\u001b[0;34m\u001b[0m\u001b[0m\n\u001b[0m",
      "\u001b[0;31mAttributeError\u001b[0m: 'datetime.date' object has no attribute 'astimezone'"
     ]
    }
   ],
   "source": [
    "startnew = start.astimezone(timezone1)"
   ]
  },
  {
   "cell_type": "code",
   "execution_count": 21,
   "metadata": {},
   "outputs": [
    {
     "output_type": "execute_result",
     "data": {
      "text/plain": [
       "<Time tt=2459221.7955113067>"
      ]
     },
     "metadata": {},
     "execution_count": 21
    }
   ],
   "source": [
    "time = ts.now()\n",
    "time\n"
   ]
  },
  {
   "cell_type": "code",
   "execution_count": 22,
   "metadata": {},
   "outputs": [
    {
     "output_type": "execute_result",
     "data": {
      "text/plain": [
       "'2021-01-07 07:04:23 UT1'"
      ]
     },
     "metadata": {},
     "execution_count": 22
    }
   ],
   "source": [
    "time.ut1_strftime()"
   ]
  },
  {
   "cell_type": "code",
   "execution_count": 23,
   "metadata": {},
   "outputs": [
    {
     "output_type": "error",
     "ename": "AttributeError",
     "evalue": "'datetime.date' object has no attribute 'tzinfo'",
     "traceback": [
      "\u001b[0;31m---------------------------------------------------------------------------\u001b[0m",
      "\u001b[0;31mAttributeError\u001b[0m                            Traceback (most recent call last)",
      "\u001b[0;32m<ipython-input-23-67e25e9e335f>\u001b[0m in \u001b[0;36m<module>\u001b[0;34m\u001b[0m\n\u001b[0;32m----> 1\u001b[0;31m \u001b[0mstart12\u001b[0m \u001b[0;34m=\u001b[0m \u001b[0mts\u001b[0m\u001b[0;34m.\u001b[0m\u001b[0mfrom_datetime\u001b[0m\u001b[0;34m(\u001b[0m\u001b[0mstart\u001b[0m\u001b[0;34m)\u001b[0m\u001b[0;34m\u001b[0m\u001b[0;34m\u001b[0m\u001b[0m\n\u001b[0m",
      "\u001b[0;32m/Applications/miniconda3/envs/python3/lib/python3.8/site-packages/skyfield/timelib.py\u001b[0m in \u001b[0;36mfrom_datetime\u001b[0;34m(self, datetime)\u001b[0m\n\u001b[1;32m    122\u001b[0m \u001b[0;34m\u001b[0m\u001b[0m\n\u001b[1;32m    123\u001b[0m         \"\"\"\n\u001b[0;32m--> 124\u001b[0;31m         \u001b[0;32mreturn\u001b[0m \u001b[0mself\u001b[0m\u001b[0;34m.\u001b[0m\u001b[0m_utc\u001b[0m\u001b[0;34m(\u001b[0m\u001b[0m_datetime_to_utc_tuple\u001b[0m\u001b[0;34m(\u001b[0m\u001b[0mdatetime\u001b[0m\u001b[0;34m)\u001b[0m\u001b[0;34m)\u001b[0m\u001b[0;34m\u001b[0m\u001b[0;34m\u001b[0m\u001b[0m\n\u001b[0m\u001b[1;32m    125\u001b[0m \u001b[0;34m\u001b[0m\u001b[0m\n\u001b[1;32m    126\u001b[0m     \u001b[0;32mdef\u001b[0m \u001b[0mfrom_datetimes\u001b[0m\u001b[0;34m(\u001b[0m\u001b[0mself\u001b[0m\u001b[0;34m,\u001b[0m \u001b[0mdatetime_list\u001b[0m\u001b[0;34m)\u001b[0m\u001b[0;34m:\u001b[0m\u001b[0;34m\u001b[0m\u001b[0;34m\u001b[0m\u001b[0m\n",
      "\u001b[0;32m/Applications/miniconda3/envs/python3/lib/python3.8/site-packages/skyfield/timelib.py\u001b[0m in \u001b[0;36m_datetime_to_utc_tuple\u001b[0;34m(dt)\u001b[0m\n\u001b[1;32m   1002\u001b[0m \u001b[0;34m\u001b[0m\u001b[0m\n\u001b[1;32m   1003\u001b[0m \u001b[0;32mdef\u001b[0m \u001b[0m_datetime_to_utc_tuple\u001b[0m\u001b[0;34m(\u001b[0m\u001b[0mdt\u001b[0m\u001b[0;34m)\u001b[0m\u001b[0;34m:\u001b[0m\u001b[0;34m\u001b[0m\u001b[0;34m\u001b[0m\u001b[0m\n\u001b[0;32m-> 1004\u001b[0;31m     \u001b[0mz\u001b[0m \u001b[0;34m=\u001b[0m \u001b[0mdt\u001b[0m\u001b[0;34m.\u001b[0m\u001b[0mtzinfo\u001b[0m\u001b[0;34m\u001b[0m\u001b[0;34m\u001b[0m\u001b[0m\n\u001b[0m\u001b[1;32m   1005\u001b[0m     \u001b[0;32mif\u001b[0m \u001b[0mz\u001b[0m \u001b[0;32mis\u001b[0m \u001b[0;32mNone\u001b[0m\u001b[0;34m:\u001b[0m\u001b[0;34m\u001b[0m\u001b[0;34m\u001b[0m\u001b[0m\n\u001b[1;32m   1006\u001b[0m         \u001b[0;32mraise\u001b[0m \u001b[0mValueError\u001b[0m\u001b[0;34m(\u001b[0m\u001b[0m_naive_complaint\u001b[0m\u001b[0;34m)\u001b[0m\u001b[0;34m\u001b[0m\u001b[0;34m\u001b[0m\u001b[0m\n",
      "\u001b[0;31mAttributeError\u001b[0m: 'datetime.date' object has no attribute 'tzinfo'"
     ]
    }
   ],
   "source": [
    "start12 = ts.from_datetime(start)"
   ]
  },
  {
   "cell_type": "code",
   "execution_count": null,
   "metadata": {},
   "outputs": [],
   "source": []
  }
 ]
}